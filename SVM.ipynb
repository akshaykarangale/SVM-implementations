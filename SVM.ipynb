{
 "cells": [
  {
   "cell_type": "code",
   "execution_count": 1,
   "metadata": {
    "collapsed": false
   },
   "outputs": [
    {
     "name": "stderr",
     "output_type": "stream",
     "text": [
      "/home/akshay/.local/lib/python3.5/site-packages/matplotlib/backends/backend_gtk3agg.py:18: UserWarning: The Gtk3Agg backend is known to not work on Python 3.x with pycairo. Try installing cairocffi.\n",
      "  \"The Gtk3Agg backend is known to not work on Python 3.x with pycairo. \"\n"
     ]
    }
   ],
   "source": [
    "import numpy as np\n",
    "import matplotlib.pyplot as plt\n",
    "from cvxopt import matrix\n",
    "from cvxopt import solvers\n",
    "%matplotlib inline"
   ]
  },
  {
   "cell_type": "code",
   "execution_count": 300,
   "metadata": {
    "collapsed": true
   },
   "outputs": [],
   "source": [
    "np.random.seed(0)\n",
    "X = np.r_[np.random.randn(20, 2) - [2, 2], np.random.randn(20, 2) + [2,2]]\n",
    "Y = [-1] * 20 + [1] * 20"
   ]
  },
  {
   "cell_type": "code",
   "execution_count": 301,
   "metadata": {
    "collapsed": false
   },
   "outputs": [
    {
     "data": {
      "text/plain": [
       "<matplotlib.collections.PathCollection at 0x7f3c26a42fd0>"
      ]
     },
     "execution_count": 301,
     "metadata": {},
     "output_type": "execute_result"
    },
    {
     "data": {
      "image/png": "[encoded data removed]",
      "text/plain": [
       "<matplotlib.figure.Figure at 0x7f3c26b8ca90>"
      ]
     },
     "metadata": {},
     "output_type": "display_data"
    }
   ],
   "source": [
    "plt.scatter(X[:, 0], X[:, 1], c=Y, cmap=plt.cm.Paired)"
   ]
  },
  {
   "cell_type": "markdown",
   "metadata": {},
   "source": [
    "### Standard SVM - Primal formulation"
   ]
  },
  {
   "cell_type": "code",
   "execution_count": 148,
   "metadata": {
    "collapsed": false
   },
   "outputs": [],
   "source": [
    "z = np.zeros((3,3))\n",
    "for i in range(2):\n",
    "    z[i][i] = 1\n",
    "P = matrix(z, tc='d')"
   ]
  },
  {
   "cell_type": "code",
   "execution_count": 149,
   "metadata": {
    "collapsed": false
   },
   "outputs": [],
   "source": [
    "q = np.zeros(3)\n",
    "q[0:3] = 0\n",
    "q = matrix(q,tc='d')"
   ]
  },
  {
   "cell_type": "code",
   "execution_count": 150,
   "metadata": {
    "collapsed": false
   },
   "outputs": [],
   "source": [
    "final = []\n",
    "for i in range(len(Y)):\n",
    "#     temp = list(np.zeros(43))\n",
    "    if Y[i] == 0:\n",
    "        Y[i] = -1\n",
    "    temp = list(-Y[i] * X[i])\n",
    "    temp.append(Y[i] * 1.0)\n",
    "#     temp[3+i] = 1.0\n",
    "    final.append(temp)\n",
    "# temp = np.array(final)\n",
    "# final = np.concatenate((temp, -np.identity(43)))"
   ]
  },
  {
   "cell_type": "code",
   "execution_count": 152,
   "metadata": {
    "collapsed": false
   },
   "outputs": [],
   "source": [
    "G = matrix(np.array(final))"
   ]
  },
  {
   "cell_type": "code",
   "execution_count": 153,
   "metadata": {
    "collapsed": false
   },
   "outputs": [],
   "source": [
    "temp = np.ones((40,1))*-1\n",
    "# temp = np.concatenate((temp, np.zeros((40,1))))\n",
    "h = matrix(temp, tc='d')"
   ]
  },
  {
   "cell_type": "code",
   "execution_count": 154,
   "metadata": {
    "collapsed": true
   },
   "outputs": [],
   "source": [
    "solvers.options['maxiters'] = 150"
   ]
  },
  {
   "cell_type": "code",
   "execution_count": 155,
   "metadata": {
    "collapsed": false
   },
   "outputs": [
    {
     "name": "stdout",
     "output_type": "stream",
     "text": [
      "     pcost       dcost       gap    pres   dres\n",
      " 0:  3.1711e-02  5.2537e+00  9e+01  2e+00  2e+02\n",
      " 1:  2.1613e-01 -8.4104e+00  1e+01  2e-01  2e+01\n",
      " 2:  2.3622e-01 -6.9407e-02  3e-01  1e-03  2e-01\n",
      " 3:  1.0205e-01  6.7801e-02  3e-02  3e-16  3e-16\n",
      " 4:  9.5714e-02  8.9811e-02  6e-03  2e-16  2e-16\n",
      " 5:  9.4920e-02  9.4495e-02  4e-04  2e-16  2e-16\n",
      " 6:  9.4880e-02  9.4871e-02  9e-06  2e-16  1e-16\n",
      " 7:  9.4878e-02  9.4878e-02  9e-08  1e-16  3e-16\n",
      "Optimal solution found.\n"
     ]
    }
   ],
   "source": [
    "sol = solvers.qp(P,q,G,h)"
   ]
  },
  {
   "cell_type": "code",
   "execution_count": 156,
   "metadata": {
    "collapsed": false
   },
   "outputs": [
    {
     "name": "stdout",
     "output_type": "stream",
     "text": [
      "[ 3.54e-01]\n",
      "[ 2.54e-01]\n",
      "[ 9.19e-02]\n",
      "\n"
     ]
    }
   ],
   "source": [
    "print(sol['x'][0:3])"
   ]
  },
  {
   "cell_type": "code",
   "execution_count": 159,
   "metadata": {
    "collapsed": false
   },
   "outputs": [
    {
     "data": {
      "text/plain": [
       "[<matplotlib.lines.Line2D at 0x7f3c277f1f60>]"
      ]
     },
     "execution_count": 159,
     "metadata": {},
     "output_type": "execute_result"
    },
    {
     "data": {
      "image/png": "[encoded data removed]",
      "text/plain": [
       "<matplotlib.figure.Figure at 0x7f3c26ff5d68>"
      ]
     },
     "metadata": {},
     "output_type": "display_data"
    }
   ],
   "source": [
    "x = np.linspace(-5,4,10)\n",
    "yy1 = -(sol['x'][0]) / sol['x'][1] * x + (sol['x'][2]) / sol['x'][1]\n",
    "yy_up = (-(sol['x'][0]) * x + (sol['x'][2]) + 1) / sol['x'][1]\n",
    "yy_down = (-(sol['x'][0]) * x + (sol['x'][2]) - 1)/ sol['x'][1]\n",
    "plt.scatter(X[:, 0], X[:, 1], c=Y, cmap=plt.cm.Paired)\n",
    "plt.plot(x,yy1,'k-')\n",
    "plt.plot(x,yy_up,'k--')\n",
    "plt.plot(x,yy_down,'k--')"
   ]
  },
  {
   "cell_type": "markdown",
   "metadata": {},
   "source": [
    "### Standard SVM - Dual formulation"
   ]
  },
  {
   "cell_type": "code",
   "execution_count": 160,
   "metadata": {
    "collapsed": true
   },
   "outputs": [],
   "source": [
    "def linear_kernel(x_i,x_j):\n",
    "    return np.inner(x_i,x_j)"
   ]
  },
  {
   "cell_type": "code",
   "execution_count": null,
   "metadata": {
    "collapsed": true
   },
   "outputs": [],
   "source": [
    "n_samples, n_feats = X.shape\n",
    "\n",
    "K = np.zeros((n_samples, n_samples))\n",
    "for i,x_i in enumerate(X):\n",
    "    for j,x_j in enumerate(X):\n",
    "        K[i][j] = linear_kernel(x_i,x_j)"
   ]
  },
  {
   "cell_type": "code",
   "execution_count": 208,
   "metadata": {
    "collapsed": true
   },
   "outputs": [],
   "source": [
    "P_dual = matrix(np.outer(Y,Y) * K, tc='d')"
   ]
  },
  {
   "cell_type": "code",
   "execution_count": 209,
   "metadata": {
    "collapsed": true
   },
   "outputs": [],
   "source": [
    "q_dual = matrix(np.ones(n_samples) * -1.0)"
   ]
  },
  {
   "cell_type": "code",
   "execution_count": 210,
   "metadata": {
    "collapsed": true
   },
   "outputs": [],
   "source": [
    "G_dual = matrix(np.identity(n_samples) * -1.0)"
   ]
  },
  {
   "cell_type": "code",
   "execution_count": 211,
   "metadata": {
    "collapsed": true
   },
   "outputs": [],
   "source": [
    "h_dual = matrix(np.zeros(n_samples), tc='d')"
   ]
  },
  {
   "cell_type": "code",
   "execution_count": 212,
   "metadata": {
    "collapsed": false
   },
   "outputs": [],
   "source": [
    "A_dual = matrix(Y, (1, n_samples),tc='d')"
   ]
  },
  {
   "cell_type": "code",
   "execution_count": 213,
   "metadata": {
    "collapsed": true
   },
   "outputs": [],
   "source": [
    "b_dual = matrix(0.0)"
   ]
  },
  {
   "cell_type": "code",
   "execution_count": 214,
   "metadata": {
    "collapsed": false
   },
   "outputs": [
    {
     "name": "stdout",
     "output_type": "stream",
     "text": [
      "     pcost       dcost       gap    pres   dres\n",
      " 0: -2.0188e+00 -3.1758e+00  9e+01  1e+01  2e+00\n",
      " 1: -9.3915e-01 -3.9684e-01  1e+01  1e+00  2e-01\n",
      " 2: -8.7878e-03 -2.3651e-01  3e-01  8e-03  1e-03\n",
      " 3: -6.7801e-02 -1.0205e-01  3e-02  4e-17  6e-16\n",
      " 4: -8.9811e-02 -9.5714e-02  6e-03  4e-17  4e-16\n",
      " 5: -9.4495e-02 -9.4920e-02  4e-04  7e-17  4e-16\n",
      " 6: -9.4871e-02 -9.4880e-02  9e-06  2e-17  6e-16\n",
      " 7: -9.4878e-02 -9.4878e-02  9e-08  2e-17  5e-16\n",
      "Optimal solution found.\n"
     ]
    }
   ],
   "source": [
    "sol_dual = solvers.qp(P_dual,q_dual,G_dual,h_dual,A_dual,b_dual)"
   ]
  },
  {
   "cell_type": "code",
   "execution_count": 215,
   "metadata": {
    "collapsed": false
   },
   "outputs": [
    {
     "name": "stdout",
     "output_type": "stream",
     "text": [
      "[ 0.35383099  0.2540872 ]\n"
     ]
    }
   ],
   "source": [
    "w = np.array([0.0,0.0])\n",
    "for i in range(n_samples):\n",
    "    w = w + sol_dual['x'][i] * Y[i] * X[i]\n",
    "print(w)"
   ]
  },
  {
   "cell_type": "code",
   "execution_count": 216,
   "metadata": {
    "collapsed": false
   },
   "outputs": [
    {
     "name": "stdout",
     "output_type": "stream",
     "text": [
      "0.0919355547945\n"
     ]
    }
   ],
   "source": [
    "b = 0\n",
    "count = 0\n",
    "for i in range(n_samples):\n",
    "    if sol_dual['x'][i] > 10**-5:\n",
    "        b = b - Y[i] + np.dot(np.transpose(w),X[i])\n",
    "        count += 1\n",
    "b = b/count\n",
    "print(b)"
   ]
  },
  {
   "cell_type": "code",
   "execution_count": 217,
   "metadata": {
    "collapsed": false
   },
   "outputs": [
    {
     "data": {
      "text/plain": [
       "[<matplotlib.lines.Line2D at 0x7f3c26d6f780>]"
      ]
     },
     "execution_count": 217,
     "metadata": {},
     "output_type": "execute_result"
    },
    {
     "data": {
      "image/png": "[encoded data removed]",
      "text/plain": [
       "<matplotlib.figure.Figure at 0x7f3c26e21eb8>"
      ]
     },
     "metadata": {},
     "output_type": "display_data"
    }
   ],
   "source": [
    "x = np.linspace(-5,4,10)\n",
    "yy1 = -(w[0]) /w[1] * x + b / w[1]\n",
    "yy_up = (-(w[0]) * x + (b) + 1) / w[1]\n",
    "yy_down = (-(w[0]) * x + (b) - 1)/ w[1]\n",
    "plt.scatter(X[:, 0], X[:, 1], c=Y, cmap=plt.cm.Paired)\n",
    "plt.plot(x,yy1,'k-')\n",
    "plt.plot(x,yy_up,'k--')\n",
    "plt.plot(x,yy_down,'k--')"
   ]
  },
  {
   "cell_type": "markdown",
   "metadata": {},
   "source": [
    "### Soft Margin SVM - Dual formulation"
   ]
  },
  {
   "cell_type": "code",
   "execution_count": 302,
   "metadata": {
    "collapsed": true
   },
   "outputs": [],
   "source": [
    "n_samples, n_feats = X.shape\n",
    "\n",
    "K = np.zeros((n_samples, n_samples))\n",
    "for i,x_i in enumerate(X):\n",
    "    for j,x_j in enumerate(X):\n",
    "        K[i][j] = linear_kernel(x_i,x_j)"
   ]
  },
  {
   "cell_type": "code",
   "execution_count": 303,
   "metadata": {
    "collapsed": true
   },
   "outputs": [],
   "source": [
    "P_SM = matrix(np.outer(Y,Y) * K, tc='d')"
   ]
  },
  {
   "cell_type": "code",
   "execution_count": 304,
   "metadata": {
    "collapsed": true
   },
   "outputs": [],
   "source": [
    "q_SM = matrix(np.ones(n_samples) * -1.0)"
   ]
  },
  {
   "cell_type": "code",
   "execution_count": 305,
   "metadata": {
    "collapsed": true
   },
   "outputs": [],
   "source": [
    "A_SM = matrix(Y, (1, n_samples),tc='d')\n",
    "b_SM = matrix(0.0)"
   ]
  },
  {
   "cell_type": "code",
   "execution_count": 306,
   "metadata": {
    "collapsed": false
   },
   "outputs": [],
   "source": [
    "g_slack = np.identity(n_samples)\n",
    "g_std = g_slack * -1.0\n",
    "G_SM = matrix(np.concatenate((g_std, g_slack)), tc='d')"
   ]
  },
  {
   "cell_type": "code",
   "execution_count": 318,
   "metadata": {
    "collapsed": false
   },
   "outputs": [],
   "source": [
    "h_slack = np.ones(n_samples) * 100 #C\n",
    "h_std = np.zeros(n_samples)\n",
    "h_SM = matrix(np.concatenate((h_std, h_slack)), tc='d')"
   ]
  },
  {
   "cell_type": "code",
   "execution_count": 320,
   "metadata": {
    "collapsed": false
   },
   "outputs": [
    {
     "name": "stdout",
     "output_type": "stream",
     "text": [
      "     pcost       dcost       gap    pres   dres\n",
      " 0:  4.5066e+02 -1.9255e+05  5e+05  6e-01  1e-13\n",
      " 1:  1.5753e+03 -3.5353e+04  6e+04  5e-02  1e-13\n",
      " 2:  1.1781e+03 -2.0452e+03  3e+03  8e-04  1e-13\n",
      " 3:  1.8339e+02 -2.1295e+02  4e+02  1e-06  5e-14\n",
      " 4:  2.4612e+01 -3.2877e+01  6e+01  2e-16  2e-14\n",
      " 5:  2.7524e+00 -5.3931e+00  8e+00  9e-16  7e-15\n",
      " 6: -6.0372e-02 -1.1436e+00  1e+00  3e-16  2e-15\n",
      " 7: -3.9588e-01 -6.4635e-01  3e-01  4e-16  1e-15\n",
      " 8: -5.5944e-01 -6.7225e-01  1e-01  6e-16  8e-16\n",
      " 9: -6.1548e-01 -6.1936e-01  4e-03  2e-16  1e-15\n",
      "10: -6.1716e-01 -6.1721e-01  6e-05  2e-16  9e-16\n",
      "11: -6.1718e-01 -6.1718e-01  6e-07  2e-16  8e-16\n",
      "Optimal solution found.\n"
     ]
    }
   ],
   "source": [
    "sol_SM = solvers.qp(P_SM,q_SM,G_SM, h_SM, A_SM, b_SM)"
   ]
  },
  {
   "cell_type": "code",
   "execution_count": 321,
   "metadata": {
    "collapsed": false
   },
   "outputs": [
    {
     "name": "stdout",
     "output_type": "stream",
     "text": [
      "[ 0.90244296  0.6480445 ]\n"
     ]
    }
   ],
   "source": [
    "w = np.array([0.0,0.0])\n",
    "for i in range(n_samples):\n",
    "#     if sol_SM['x'][i] > 10**-5:\n",
    "#         print(i)\n",
    "    w = w + sol_SM['x'][i] * Y[i] * X[i]\n",
    "print(w)"
   ]
  },
  {
   "cell_type": "code",
   "execution_count": 322,
   "metadata": {
    "collapsed": false
   },
   "outputs": [
    {
     "name": "stdout",
     "output_type": "stream",
     "text": [
      "0.234480140739\n"
     ]
    }
   ],
   "source": [
    "b = 0\n",
    "count = 0\n",
    "for i in range(n_samples):\n",
    "    if sol_SM['x'][i] > 10**-5:\n",
    "        b = b - Y[i] + np.dot(np.transpose(w),X[i])\n",
    "        count += 1\n",
    "b = b/count\n",
    "print(b)"
   ]
  },
  {
   "cell_type": "code",
   "execution_count": 323,
   "metadata": {
    "collapsed": false
   },
   "outputs": [
    {
     "data": {
      "text/plain": [
       "[<matplotlib.lines.Line2D at 0x7f3c26944908>]"
      ]
     },
     "execution_count": 323,
     "metadata": {},
     "output_type": "execute_result"
    },
    {
     "data": {
      "image/png": "[encoded data removed]",
      "text/plain": [
       "<matplotlib.figure.Figure at 0x7f3c26ad18d0>"
      ]
     },
     "metadata": {},
     "output_type": "display_data"
    }
   ],
   "source": [
    "x = np.linspace(-5,4,10)\n",
    "yy1 = -(w[0]) /w[1] * x + b / w[1]\n",
    "yy_up = (-(w[0]) * x + (b) + 1) / w[1]\n",
    "yy_down = (-(w[0]) * x + (b) - 1)/ w[1]\n",
    "plt.scatter(X[:, 0], X[:, 1], c=Y, cmap=plt.cm.Paired)\n",
    "plt.plot(x,yy1,'k-')\n",
    "plt.plot(x,yy_up,'k--')\n",
    "plt.plot(x,yy_down,'k--')"
   ]
  },
  {
   "cell_type": "markdown",
   "metadata": {},
   "source": [
    "### Proximal SVM - Dual formulation"
   ]
  },
  {
   "cell_type": "code",
   "execution_count": 324,
   "metadata": {
    "collapsed": true
   },
   "outputs": [],
   "source": [
    "n_samples, n_feats = X.shape\n",
    "\n",
    "K = np.zeros((n_samples, n_samples))\n",
    "for i,x_i in enumerate(X):\n",
    "    for j,x_j in enumerate(X):\n",
    "        K[i][j] = linear_kernel(x_i,x_j) + 1"
   ]
  },
  {
   "cell_type": "code",
   "execution_count": 326,
   "metadata": {
    "collapsed": false
   },
   "outputs": [],
   "source": [
    "tmp = np.outer(Y,Y) * K\n",
    "for i in range(n_samples):\n",
    "    tmp[i][i] = tmp[i][i] + 0.5\n",
    "P_p = matrix(tmp, tc='d')"
   ]
  },
  {
   "cell_type": "code",
   "execution_count": 327,
   "metadata": {
    "collapsed": true
   },
   "outputs": [],
   "source": [
    "q_p = matrix(np.ones(n_samples) * -1.0)"
   ]
  },
  {
   "cell_type": "code",
   "execution_count": 328,
   "metadata": {
    "collapsed": false
   },
   "outputs": [],
   "source": [
    "sol_p = solvers.qp(P_p,q_p)"
   ]
  },
  {
   "cell_type": "code",
   "execution_count": 332,
   "metadata": {
    "collapsed": false
   },
   "outputs": [
    {
     "name": "stdout",
     "output_type": "stream",
     "text": [
      "[ 0.23523671  0.28986002]\n"
     ]
    }
   ],
   "source": [
    "w = np.array([0.0,0.0])\n",
    "for i in range(n_samples):\n",
    "#     if sol_SM['x'][i] > 10**-5:\n",
    "#         print(i)\n",
    "    w = w + sol_p['x'][i] * Y[i] * X[i]\n",
    "print(w)"
   ]
  },
  {
   "cell_type": "code",
   "execution_count": 333,
   "metadata": {
    "collapsed": false
   },
   "outputs": [
    {
     "name": "stdout",
     "output_type": "stream",
     "text": [
      "-0.017008099536500586\n"
     ]
    }
   ],
   "source": [
    "b = 0\n",
    "for i in range(n_samples):\n",
    "#     if sol_SM['x'][i] > 10**-5:\n",
    "#         print(i)\n",
    "    b = b - sol_p['x'][i] * Y[i]\n",
    "print(b)"
   ]
  },
  {
   "cell_type": "code",
   "execution_count": 335,
   "metadata": {
    "collapsed": false,
    "scrolled": true
   },
   "outputs": [
    {
     "data": {
      "text/plain": [
       "[<matplotlib.lines.Line2D at 0x7f3c26823780>]"
      ]
     },
     "execution_count": 335,
     "metadata": {},
     "output_type": "execute_result"
    },
    {
     "data": {
      "image/png": "[encoded data removed]",
      "text/plain": [
       "<matplotlib.figure.Figure at 0x7f3c26908828>"
      ]
     },
     "metadata": {},
     "output_type": "display_data"
    }
   ],
   "source": [
    "x = np.linspace(-5,4,10)\n",
    "yy_up = (-x*w[0] + b + 1)/w[1]\n",
    "\n",
    "yy_down = (-x*w[0] + b - 1)/w[1]\n",
    "plt.scatter(X[:, 0], X[:, 1], c=Y, cmap=plt.cm.Paired)\n",
    "# plt.plot(x,yy1,'k-')\n",
    "plt.plot(x,yy_up,'k--')\n",
    "plt.plot(x,yy_down,'k--')"
   ]
  },
  {
   "cell_type": "code",
   "execution_count": null,
   "metadata": {
    "collapsed": true
   },
   "outputs": [],
   "source": []
  }
 ],
 "metadata": {
  "kernelspec": {
   "display_name": "Python 3",
   "language": "python",
   "name": "python3"
  },
  "language_info": {
   "codemirror_mode": {
    "name": "ipython",
    "version": 3
   },
   "file_extension": ".py",
   "mimetype": "text/x-python",
   "name": "python",
   "nbconvert_exporter": "python",
   "pygments_lexer": "ipython3",
   "version": "3.5.2"
  }
 },
 "nbformat": 4,
 "nbformat_minor": 0
}
